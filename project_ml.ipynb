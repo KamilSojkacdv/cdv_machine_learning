{
  "nbformat": 4,
  "nbformat_minor": 0,
  "metadata": {
    "colab": {
      "name": "projekt v2",
      "provenance": []
    },
    "kernelspec": {
      "name": "python3",
      "display_name": "Python 3"
    },
    "language_info": {
      "name": "python"
    }
  },
  "cells": [
    {
      "cell_type": "code",
      "metadata": {
        "colab": {
          "base_uri": "https://localhost:8080/"
        },
        "id": "cvMXjtbFnKy1",
        "outputId": "8d702db5-e7e6-4324-9be2-ab66eaf12f79"
      },
      "source": [
        "pip install --upgrade --quiet neptune-client"
      ],
      "execution_count": null,
      "outputs": [
        {
          "output_type": "stream",
          "text": [
            "\u001b[K     |████████████████████████████████| 245kB 3.9MB/s \n",
            "\u001b[K     |████████████████████████████████| 829kB 11.1MB/s \n",
            "\u001b[K     |████████████████████████████████| 71kB 7.1MB/s \n",
            "\u001b[K     |████████████████████████████████| 174kB 18.2MB/s \n",
            "\u001b[K     |████████████████████████████████| 133kB 13.9MB/s \n",
            "\u001b[K     |████████████████████████████████| 71kB 7.4MB/s \n",
            "\u001b[K     |████████████████████████████████| 71kB 7.0MB/s \n",
            "\u001b[?25h  Building wheel for neptune-client (setup.py) ... \u001b[?25l\u001b[?25hdone\n",
            "  Building wheel for future (setup.py) ... \u001b[?25l\u001b[?25hdone\n",
            "  Building wheel for strict-rfc3339 (setup.py) ... \u001b[?25l\u001b[?25hdone\n"
          ],
          "name": "stdout"
        }
      ]
    },
    {
      "cell_type": "code",
      "metadata": {
        "id": "ivzJ_pfvnL6T"
      },
      "source": [
        "import pandas as pd\n",
        "import neptune.new as neptune\n",
        "from google.colab import drive\n",
        "from sklearn.preprocessing import StandardScaler\n",
        "from sklearn.dummy import DummyClassifier\n",
        "from sklearn.metrics import confusion_matrix\n",
        "from sklearn.model_selection import train_test_split\n"
      ],
      "execution_count": null,
      "outputs": []
    },
    {
      "cell_type": "code",
      "metadata": {
        "colab": {
          "base_uri": "https://localhost:8080/"
        },
        "id": "WRcqeo_cnpSz",
        "outputId": "b03bfcbd-d53c-40e3-d4eb-9b7b410df569"
      },
      "source": [
        "drive.mount('/content/drive')"
      ],
      "execution_count": null,
      "outputs": [
        {
          "output_type": "stream",
          "text": [
            "Mounted at /content/drive\n"
          ],
          "name": "stdout"
        }
      ]
    },
    {
      "cell_type": "code",
      "metadata": {
        "id": "Ta74eV42n9PF"
      },
      "source": [
        "path_test = \"/content/drive/MyDrive/ml/test_data.csv\"\n",
        "test_data = pd.read_csv(path_test, header=None)"
      ],
      "execution_count": null,
      "outputs": []
    },
    {
      "cell_type": "code",
      "metadata": {
        "id": "F4JNHaYMoPsb"
      },
      "source": [
        "#import train dataset\n",
        "path_train = \"/content/drive/MyDrive/ml/train_data.csv\"\n",
        "train_data = pd.read_csv(path_train, header=None)"
      ],
      "execution_count": null,
      "outputs": []
    },
    {
      "cell_type": "code",
      "metadata": {
        "id": "jHABLfzNoRi3"
      },
      "source": [
        "#import labels\n",
        "path_labels = \"/content/drive/MyDrive/ml/train_labels.csv\"\n",
        "labels = pd.read_csv(path_labels, header=None)"
      ],
      "execution_count": null,
      "outputs": []
    },
    {
      "cell_type": "code",
      "metadata": {
        "id": "fa6mrQteof9d"
      },
      "source": [
        "X, y = train_data, labels"
      ],
      "execution_count": null,
      "outputs": []
    },
    {
      "cell_type": "code",
      "metadata": {
        "id": "LWoUp5tUGZjw"
      },
      "source": [
        "X_train, X_test, y_train, y_test = train_test_split(X, y, test_size=0.33, random_state=42)"
      ],
      "execution_count": null,
      "outputs": []
    },
    {
      "cell_type": "code",
      "metadata": {
        "id": "L_dHF2EaomBO"
      },
      "source": [
        "scaler = StandardScaler()\n",
        "X_train = scaler.fit_transform(X_train)\n",
        "X_test = scaler.transform(X_test)\n",
        "test_data = scaler.transform(test_data)"
      ],
      "execution_count": null,
      "outputs": []
    },
    {
      "cell_type": "code",
      "metadata": {
        "colab": {
          "base_uri": "https://localhost:8080/"
        },
        "id": "16CCZ5rho6ra",
        "outputId": "2ea980d8-cc41-4f9a-a841-abf4873dd22b"
      },
      "source": [
        "from sklearn.dummy import DummyClassifier\n",
        "import numpy as np\n",
        "strategies = [\"stratified\", \"most_frequent\", \"prior\", \"uniform\"]\n",
        "\n",
        "for n in strategies:\n",
        "  score = []\n",
        "  unq = []\n",
        "  dummy_clf = DummyClassifier(strategy=n)\n",
        "  dummy_clf.fit(X_train, y_train)\n",
        "  score_dummy=(dummy_clf.score(X_train, y_train))  \n",
        "  pred_dummy = dummy_clf.predict(test_data)\n",
        "  unq_dummy = np.unique(pred_dummy)\n",
        "  unq.append(unq_dummy)\n",
        "  score.append(score_dummy)\n",
        "  print(\"for {} strategy score is {}, labels: {}\".format(n, score, c))"
      ],
      "execution_count": null,
      "outputs": [
        {
          "output_type": "stream",
          "text": [
            "for stratified strategy score is [0.8196656050955414], labels: [-1  1]\n",
            "for most_frequent strategy score is [0.8996815286624203], labels: [1]\n",
            "for prior strategy score is [0.8996815286624203], labels: [1]\n",
            "for uniform strategy score is [0.4964171974522293], labels: [-1  1]\n"
          ],
          "name": "stdout"
        }
      ]
    },
    {
      "cell_type": "code",
      "metadata": {
        "colab": {
          "base_uri": "https://localhost:8080/"
        },
        "id": "CA97v_fuFaL6",
        "outputId": "f3a6b1d2-f061-46e4-dcd4-e958e2d007ba"
      },
      "source": [
        "from sklearn.metrics import confusion_matrix\n",
        "confusion_matrix(y_test, dummy_clf.predict(X_test))"
      ],
      "execution_count": null,
      "outputs": [
        {
          "output_type": "execute_result",
          "data": {
            "text/plain": [
              "array([[ 61,  62],\n",
              "       [542, 573]])"
            ]
          },
          "metadata": {
            "tags": []
          },
          "execution_count": 17
        }
      ]
    },
    {
      "cell_type": "code",
      "metadata": {
        "colab": {
          "base_uri": "https://localhost:8080/"
        },
        "id": "85QSBfCkOLbv",
        "outputId": "fb71e779-db78-41bf-d2f6-ab2af926a4c0"
      },
      "source": [
        "from sklearn.ensemble import AdaBoostClassifier\n",
        "\n",
        "clf = AdaBoostClassifier(n_estimators=100, random_state=42)\n",
        "clf.fit(X_train, y_train)\n",
        "print(clf.score(X_train, y_train))\n",
        "print(clf.score(X_test, y_test))\n",
        "adabst = clf.predict(test_data)\n",
        "np.unique(adabst)"
      ],
      "execution_count": null,
      "outputs": [
        {
          "output_type": "stream",
          "text": [
            "/usr/local/lib/python3.7/dist-packages/sklearn/utils/validation.py:760: DataConversionWarning: A column-vector y was passed when a 1d array was expected. Please change the shape of y to (n_samples, ), for example using ravel().\n",
            "  y = column_or_1d(y, warn=True)\n"
          ],
          "name": "stderr"
        },
        {
          "output_type": "stream",
          "text": [
            "1.0\n",
            "0.944264943457189\n"
          ],
          "name": "stdout"
        },
        {
          "output_type": "execute_result",
          "data": {
            "text/plain": [
              "array([-1,  1])"
            ]
          },
          "metadata": {
            "tags": []
          },
          "execution_count": 18
        }
      ]
    },
    {
      "cell_type": "code",
      "metadata": {
        "colab": {
          "base_uri": "https://localhost:8080/"
        },
        "id": "mhex_ljmRuW2",
        "outputId": "212df9d8-9aae-4f61-8db4-4d61bd73d0e0"
      },
      "source": [
        "from sklearn.tree import DecisionTreeClassifier\n",
        "classifier = DecisionTreeClassifier()\n",
        "classifier.fit(X_train, y_train)\n",
        "y_pred = classifier.predict(X_test)\n",
        "print(classifier.score(X_train, y_train))\n",
        "np.unique(y_pred)\n"
      ],
      "execution_count": null,
      "outputs": [
        {
          "output_type": "stream",
          "text": [
            "1.0\n"
          ],
          "name": "stdout"
        },
        {
          "output_type": "execute_result",
          "data": {
            "text/plain": [
              "array([-1,  1])"
            ]
          },
          "metadata": {
            "tags": []
          },
          "execution_count": 22
        }
      ]
    },
    {
      "cell_type": "code",
      "metadata": {
        "colab": {
          "base_uri": "https://localhost:8080/"
        },
        "id": "TQLNLw-IW3MB",
        "outputId": "8c20a6fd-df9d-49d8-e5a3-9362ccd0cef0"
      },
      "source": [
        "confusion_matrix(y_test, classifier.predict(X_test))"
      ],
      "execution_count": null,
      "outputs": [
        {
          "output_type": "execute_result",
          "data": {
            "text/plain": [
              "array([[  84,   39],\n",
              "       [  28, 1087]])"
            ]
          },
          "metadata": {
            "tags": []
          },
          "execution_count": 23
        }
      ]
    },
    {
      "cell_type": "code",
      "metadata": {
        "id": "BghhMOTdaHPg"
      },
      "source": [
        ""
      ],
      "execution_count": null,
      "outputs": []
    },
    {
      "cell_type": "code",
      "metadata": {
        "colab": {
          "base_uri": "https://localhost:8080/"
        },
        "id": "T7WuZQSDaHSM",
        "outputId": "8950f83b-206a-4677-d37b-7d47ef6fd636"
      },
      "source": [
        "from sklearn.ensemble import RandomForestClassifier\n",
        "\n",
        "regressor = RandomForestClassifier(max_depth=20, random_state=42)\n",
        "regressor.fit(X_train, y_train)\n",
        "y_pred = regressor.predict(X_test)\n",
        "print(regressor.score(X_train, y_train))\n",
        "np.unique(y_pred)\n",
        "y_pred\n"
      ],
      "execution_count": null,
      "outputs": [
        {
          "output_type": "stream",
          "text": [
            "/usr/local/lib/python3.7/dist-packages/ipykernel_launcher.py:4: DataConversionWarning: A column-vector y was passed when a 1d array was expected. Please change the shape of y to (n_samples,), for example using ravel().\n",
            "  after removing the cwd from sys.path.\n"
          ],
          "name": "stderr"
        },
        {
          "output_type": "stream",
          "text": [
            "0.9040605095541401\n"
          ],
          "name": "stdout"
        },
        {
          "output_type": "execute_result",
          "data": {
            "text/plain": [
              "array([1, 1, 1, ..., 1, 1, 1])"
            ]
          },
          "metadata": {
            "tags": []
          },
          "execution_count": 28
        }
      ]
    },
    {
      "cell_type": "code",
      "metadata": {
        "colab": {
          "base_uri": "https://localhost:8080/"
        },
        "id": "PDX069PxgZdN",
        "outputId": "1ac822ed-d0e5-40c3-d9d3-ea7989d45bdc"
      },
      "source": [
        "confusion_matrix(y_test, regressor.predict(X_test))"
      ],
      "execution_count": null,
      "outputs": [
        {
          "output_type": "execute_result",
          "data": {
            "text/plain": [
              "array([[   0,  123],\n",
              "       [   0, 1115]])"
            ]
          },
          "metadata": {
            "tags": []
          },
          "execution_count": 27
        }
      ]
    }
  ]
}