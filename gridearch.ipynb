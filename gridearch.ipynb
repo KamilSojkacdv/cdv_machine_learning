{
  "nbformat": 4,
  "nbformat_minor": 0,
  "metadata": {
    "colab": {
      "name": "gridearch.ipynb",
      "provenance": []
    },
    "kernelspec": {
      "name": "python3",
      "display_name": "Python 3"
    },
    "language_info": {
      "name": "python"
    }
  },
  "cells": [
    {
      "cell_type": "code",
      "metadata": {
        "colab": {
          "base_uri": "https://localhost:8080/"
        },
        "id": "DWPyc-rKd4TC",
        "outputId": "467d6e63-bd87-4c11-f7a9-f17ba842e891"
      },
      "source": [
        "from xgboost import XGBClassifier\n",
        "from sklearn.manifold import TSNE\n",
        "import pandas as pd\n",
        "from google.colab import drive\n",
        "from sklearn.neighbors import KNeighborsClassifier\n",
        "from sklearn.svm import SVC\n",
        "from sklearn.preprocessing import StandardScaler\n",
        "from sklearn.metrics import confusion_matrix\n",
        "from imblearn.pipeline import Pipeline\n",
        "from sklearn.decomposition import PCA\n",
        "from sklearn.model_selection import train_test_split\n",
        "from sklearn.model_selection import GridSearchCV\n",
        "import numpy as np"
      ],
      "execution_count": null,
      "outputs": [
        {
          "output_type": "stream",
          "text": [
            "/usr/local/lib/python3.7/dist-packages/sklearn/externals/six.py:31: FutureWarning: The module is deprecated in version 0.21 and will be removed in version 0.23 since we've dropped support for Python 2.7. Please rely on the official version of six (https://pypi.org/project/six/).\n",
            "  \"(https://pypi.org/project/six/).\", FutureWarning)\n",
            "/usr/local/lib/python3.7/dist-packages/sklearn/utils/deprecation.py:144: FutureWarning: The sklearn.neighbors.base module is  deprecated in version 0.22 and will be removed in version 0.24. The corresponding classes / functions should instead be imported from sklearn.neighbors. Anything that cannot be imported from sklearn.neighbors is now part of the private API.\n",
            "  warnings.warn(message, FutureWarning)\n"
          ],
          "name": "stderr"
        }
      ]
    },
    {
      "cell_type": "code",
      "metadata": {
        "colab": {
          "base_uri": "https://localhost:8080/"
        },
        "id": "PwLRv3hzd60y",
        "outputId": "3ee5ab72-e9cb-4aae-d8bf-c7a76781dec0"
      },
      "source": [
        "drive.mount('/content/drive')"
      ],
      "execution_count": null,
      "outputs": [
        {
          "output_type": "stream",
          "text": [
            "Mounted at /content/drive\n"
          ],
          "name": "stdout"
        }
      ]
    },
    {
      "cell_type": "code",
      "metadata": {
        "id": "-E1OSdSmnYGz"
      },
      "source": [
        "#import test dataset\n",
        "path_test = \"/content/drive/MyDrive/ml/test_data.csv\"\n",
        "test_data = pd.read_csv(path_test, header=None)"
      ],
      "execution_count": null,
      "outputs": []
    },
    {
      "cell_type": "code",
      "metadata": {
        "id": "UsTzU_lwnaoM"
      },
      "source": [
        "#import train dataset\n",
        "path_train = \"/content/drive/MyDrive/ml/train_data.csv\"\n",
        "train_data = pd.read_csv(path_train, header=None)"
      ],
      "execution_count": null,
      "outputs": []
    },
    {
      "cell_type": "code",
      "metadata": {
        "id": "FSpV9s5UncFk"
      },
      "source": [
        "#import labels\n",
        "path_labels = \"/content/drive/MyDrive/ml/train_labels.csv\"\n",
        "labels = pd.read_csv(path_labels, header=None)"
      ],
      "execution_count": null,
      "outputs": []
    },
    {
      "cell_type": "code",
      "metadata": {
        "id": "HOHDzW4ZoYZG"
      },
      "source": [
        "#assign X, y to data\n",
        "X, y = train_data, labels"
      ],
      "execution_count": null,
      "outputs": []
    },
    {
      "cell_type": "code",
      "metadata": {
        "id": "LZgw02OXoYym"
      },
      "source": [
        "#test train split\n",
        "X_train, X_test, y_train, y_test = train_test_split(X, y, test_size=0.33, random_state=42, stratify=y)"
      ],
      "execution_count": null,
      "outputs": []
    },
    {
      "cell_type": "code",
      "metadata": {
        "id": "bODwUrk9oclu"
      },
      "source": [
        "grid = GridSearchCV(cv=3,\n",
        "             estimator=Pipeline(steps=[('scaler', StandardScaler()),\n",
        "                                       ('decomposition', PCA()),\n",
        "                                       ('estimator', AdaBoostClassifier())]),\n",
        "             n_jobs=-1,\n",
        "             param_grid=[{'decomposition': [PCA()],\n",
        "                          'decomposition__n_components':  [0.97, 0.98],                         \n",
        "                          'estimator': [AdaBoostClassifier()],\n",
        "                          'estimator__n_estimators':[50, 100],\n",
        "                          'estimator__learning_rate':[0.05, 0.1],                          \n",
        "                          'estimator': [KNeighborsClassifier()],\n",
        "                          'estimator__n_neighbors': [2, 4, 6, 8, 10],\n",
        "                          'estimator__algorithm': ['auto'],                          \n",
        "                          'estimator': [XGBClassifier()],\n",
        "                          'estimator__n_estimators': [50, 100],\n",
        "                          'estimator__learning_rate': [0.05, 0.1],                       \n",
        "                          'scaler': [StandardScaler()]}],\n",
        "             refit=False,\n",
        "             scoring='f1_weighted',\n",
        "             verbose=2)\n",
        "\n",
        "best_model = grid.fit(X_train, y_train)\n",
        "y_pred = best_model.predict(X_test)\n",
        "print('best score: ', best_model.best_estimator_)\n",
        "confusion_matrix(y_test, y_pred)"
      ],
      "execution_count": null,
      "outputs": []
    }
  ]
}